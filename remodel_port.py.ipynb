{
 "cells": [
  {
   "cell_type": "code",
   "execution_count": 1,
   "metadata": {},
   "outputs": [],
   "source": [
    "import pandas as pd\n",
    "import numpy as np"
   ]
  },
  {
   "cell_type": "code",
   "execution_count": 2,
   "metadata": {},
   "outputs": [],
   "source": [
    "#R library(randomForest)\n",
    "from sklearn.ensemble import RandomForestRegressor"
   ]
  },
  {
   "cell_type": "code",
   "execution_count": 3,
   "metadata": {},
   "outputs": [],
   "source": [
    "#R df = read.csv(file=\"./data/proposed-assessments-as-of-april-18th.csv\", header=TRUE, sep=\",\")\n",
    "df = pd.read_csv(\"data/proposed-assessments-as-of-april-18th.csv\",low_memory=False)"
   ]
  },
  {
   "cell_type": "code",
   "execution_count": 4,
   "metadata": {},
   "outputs": [],
   "source": [
    "# orig = read.csv(file=\"./data/proposed-assessments-as-of-april-18th.csv\", header=TRUE, sep=\",\")\n",
    "# OMITTED IN PORT"
   ]
  },
  {
   "cell_type": "code",
   "execution_count": 5,
   "metadata": {},
   "outputs": [],
   "source": [
    "#R df = df[sapply(df, is.numeric)]\n",
    "# this should select only the numeric columns\n",
    "df = df.select_dtypes(exclude=['object'])"
   ]
  },
  {
   "cell_type": "code",
   "execution_count": 6,
   "metadata": {},
   "outputs": [
    {
     "data": {
      "text/html": [
       "<div>\n",
       "<style scoped>\n",
       "    .dataframe tbody tr th:only-of-type {\n",
       "        vertical-align: middle;\n",
       "    }\n",
       "\n",
       "    .dataframe tbody tr th {\n",
       "        vertical-align: top;\n",
       "    }\n",
       "\n",
       "    .dataframe thead th {\n",
       "        text-align: right;\n",
       "    }\n",
       "</style>\n",
       "<table border=\"1\" class=\"dataframe\">\n",
       "  <thead>\n",
       "    <tr style=\"text-align: right;\">\n",
       "      <th></th>\n",
       "      <th>BlockNo</th>\n",
       "      <th>SalePrice</th>\n",
       "      <th>2017_AssmtTaxable</th>\n",
       "      <th>2017_AssmtExempt</th>\n",
       "      <th>2017_AssmtTotal</th>\n",
       "      <th>2017_TaxesTotal</th>\n",
       "      <th>YearBuilt</th>\n",
       "      <th>SquareFootage</th>\n",
       "      <th>2018_AssmtTaxable</th>\n",
       "      <th>2018_AssmtExempt</th>\n",
       "      <th>2018_AssmtTotal</th>\n",
       "      <th>2018_TaxesEstimated</th>\n",
       "    </tr>\n",
       "  </thead>\n",
       "  <tbody>\n",
       "    <tr>\n",
       "      <th>0</th>\n",
       "      <td>301.0</td>\n",
       "      <td>390000.0</td>\n",
       "      <td>126000</td>\n",
       "      <td>NaN</td>\n",
       "      <td>126000</td>\n",
       "      <td>9828.0</td>\n",
       "      <td>1925.0</td>\n",
       "      <td>1600.0</td>\n",
       "      <td>416500</td>\n",
       "      <td>NaN</td>\n",
       "      <td>416500</td>\n",
       "      <td>6747.30</td>\n",
       "    </tr>\n",
       "    <tr>\n",
       "      <th>1</th>\n",
       "      <td>301.0</td>\n",
       "      <td>1.0</td>\n",
       "      <td>114000</td>\n",
       "      <td>NaN</td>\n",
       "      <td>114000</td>\n",
       "      <td>8892.0</td>\n",
       "      <td>1929.0</td>\n",
       "      <td>1616.0</td>\n",
       "      <td>363300</td>\n",
       "      <td>NaN</td>\n",
       "      <td>363300</td>\n",
       "      <td>5885.46</td>\n",
       "    </tr>\n",
       "    <tr>\n",
       "      <th>2</th>\n",
       "      <td>301.0</td>\n",
       "      <td>150000.0</td>\n",
       "      <td>124700</td>\n",
       "      <td>NaN</td>\n",
       "      <td>124700</td>\n",
       "      <td>9726.6</td>\n",
       "      <td>1929.0</td>\n",
       "      <td>1600.0</td>\n",
       "      <td>364900</td>\n",
       "      <td>NaN</td>\n",
       "      <td>364900</td>\n",
       "      <td>5911.38</td>\n",
       "    </tr>\n",
       "    <tr>\n",
       "      <th>3</th>\n",
       "      <td>301.0</td>\n",
       "      <td>305000.0</td>\n",
       "      <td>88000</td>\n",
       "      <td>NaN</td>\n",
       "      <td>88000</td>\n",
       "      <td>6864.0</td>\n",
       "      <td>1929.0</td>\n",
       "      <td>1582.0</td>\n",
       "      <td>335000</td>\n",
       "      <td>NaN</td>\n",
       "      <td>335000</td>\n",
       "      <td>5427.00</td>\n",
       "    </tr>\n",
       "    <tr>\n",
       "      <th>4</th>\n",
       "      <td>301.0</td>\n",
       "      <td>1.0</td>\n",
       "      <td>122100</td>\n",
       "      <td>NaN</td>\n",
       "      <td>122100</td>\n",
       "      <td>9523.8</td>\n",
       "      <td>1929.0</td>\n",
       "      <td>1582.0</td>\n",
       "      <td>396200</td>\n",
       "      <td>NaN</td>\n",
       "      <td>396200</td>\n",
       "      <td>6418.44</td>\n",
       "    </tr>\n",
       "  </tbody>\n",
       "</table>\n",
       "</div>"
      ],
      "text/plain": [
       "   BlockNo  SalePrice  2017_AssmtTaxable  2017_AssmtExempt  2017_AssmtTotal  \\\n",
       "0    301.0   390000.0             126000               NaN           126000   \n",
       "1    301.0        1.0             114000               NaN           114000   \n",
       "2    301.0   150000.0             124700               NaN           124700   \n",
       "3    301.0   305000.0              88000               NaN            88000   \n",
       "4    301.0        1.0             122100               NaN           122100   \n",
       "\n",
       "   2017_TaxesTotal  YearBuilt  SquareFootage  2018_AssmtTaxable  \\\n",
       "0           9828.0     1925.0         1600.0             416500   \n",
       "1           8892.0     1929.0         1616.0             363300   \n",
       "2           9726.6     1929.0         1600.0             364900   \n",
       "3           6864.0     1929.0         1582.0             335000   \n",
       "4           9523.8     1929.0         1582.0             396200   \n",
       "\n",
       "   2018_AssmtExempt  2018_AssmtTotal  2018_TaxesEstimated  \n",
       "0               NaN           416500              6747.30  \n",
       "1               NaN           363300              5885.46  \n",
       "2               NaN           364900              5911.38  \n",
       "3               NaN           335000              5427.00  \n",
       "4               NaN           396200              6418.44  "
      ]
     },
     "execution_count": 6,
     "metadata": {},
     "output_type": "execute_result"
    }
   ],
   "source": [
    "# insert underscores in column names\n",
    "df.columns = [c.replace(' ', '_') for c in df.columns]\n",
    "\n",
    "df.columns = df.columns.str.replace('\\n','')\n",
    "df.head(5)"
   ]
  },
  {
   "cell_type": "code",
   "execution_count": 7,
   "metadata": {},
   "outputs": [
    {
     "data": {
      "text/plain": [
       "['BlockNo',\n",
       " 'SalePrice',\n",
       " '2017_AssmtTaxable',\n",
       " '2017_AssmtExempt',\n",
       " '2017_AssmtTotal',\n",
       " '2017_TaxesTotal',\n",
       " 'YearBuilt',\n",
       " 'SquareFootage',\n",
       " '2018_AssmtTaxable',\n",
       " '2018_AssmtExempt',\n",
       " '2018_AssmtTotal',\n",
       " '2018_TaxesEstimated']"
      ]
     },
     "execution_count": 7,
     "metadata": {},
     "output_type": "execute_result"
    }
   ],
   "source": [
    "list(df)"
   ]
  },
  {
   "cell_type": "code",
   "execution_count": 9,
   "metadata": {},
   "outputs": [],
   "source": [
    "#R undesired <- c('X2018.Assmt.Taxable', 'X2018.Assmt.Exempt', 'X2018.Assmt.Total')\n",
    "undesired = ['2017_AssmtExempt', '2018_AssmtTaxable', '2018_AssmtExempt', '2018_AssmtTotal','2018_TaxesEstimated']\n",
    "\n",
    "# AT undesired = ['BlockNo','2017_AssmtExempt', '2018_AssmtTaxable', '2018_AssmtExempt', '2018_AssmtTotal','2018_TaxesEstimated']\n"
   ]
  },
  {
   "cell_type": "code",
   "execution_count": 10,
   "metadata": {},
   "outputs": [
    {
     "data": {
      "text/plain": [
       "['BlockNo',\n",
       " 'SalePrice',\n",
       " '2017_AssmtTaxable',\n",
       " '2017_AssmtTotal',\n",
       " '2017_TaxesTotal',\n",
       " 'YearBuilt',\n",
       " 'SquareFootage']"
      ]
     },
     "execution_count": 10,
     "metadata": {},
     "output_type": "execute_result"
    }
   ],
   "source": [
    "#R idx = !(colnames(df) %in% undesired)\n",
    "idx = [x for x in list(df) if x not in undesired]\n",
    "idx"
   ]
  },
  {
   "cell_type": "code",
   "execution_count": 16,
   "metadata": {},
   "outputs": [],
   "source": [
    "#R df = df[,idx]\n",
    "# creates an index on all the columns except those in undesired\n",
    "df = df.set_index(idx)"
   ]
  },
  {
   "cell_type": "code",
   "execution_count": 17,
   "metadata": {},
   "outputs": [],
   "source": [
    "# replace NaN's with median of the column\n",
    "\n",
    "#R for(i in 1:ncol(df)){\n",
    "#R   df[is.na(df[,i]), i] = median(df[,i], na.rm = TRUE)\n",
    "#R }\n",
    "\n",
    "df = df.fillna(df.mean())"
   ]
  },
  {
   "cell_type": "code",
   "execution_count": 18,
   "metadata": {},
   "outputs": [
    {
     "ename": "KeyError",
     "evalue": "\"['BlockNo' 'SalePrice' '2017_AssmtTaxable' '2017_AssmtTotal'\\n '2017_TaxesTotal' 'YearBuilt' 'SquareFootage'] not in index\"",
     "output_type": "error",
     "traceback": [
      "\u001b[0;31m---------------------------------------------------------------------------\u001b[0m",
      "\u001b[0;31mKeyError\u001b[0m                                  Traceback (most recent call last)",
      "\u001b[0;32m<ipython-input-18-117cd9755f5b>\u001b[0m in \u001b[0;36m<module>\u001b[0;34m()\u001b[0m\n\u001b[1;32m      2\u001b[0m \u001b[0;34m\u001b[0m\u001b[0m\n\u001b[1;32m      3\u001b[0m \u001b[0;31m# X_train, X_test, y_train, y_test = train_test_split(df[iris.feature_names], iris.target, test_size=0.5, stratify=iris.target, random_state=123456)\u001b[0m\u001b[0;34m\u001b[0m\u001b[0;34m\u001b[0m\u001b[0m\n\u001b[0;32m----> 4\u001b[0;31m \u001b[0mX_train\u001b[0m\u001b[0;34m,\u001b[0m \u001b[0mX_test\u001b[0m\u001b[0;34m,\u001b[0m \u001b[0my_train\u001b[0m\u001b[0;34m,\u001b[0m \u001b[0my_test\u001b[0m \u001b[0;34m=\u001b[0m \u001b[0mtrain_test_split\u001b[0m\u001b[0;34m(\u001b[0m\u001b[0mdf\u001b[0m\u001b[0;34m[\u001b[0m\u001b[0midx\u001b[0m\u001b[0;34m]\u001b[0m\u001b[0;34m,\u001b[0m\u001b[0mdf\u001b[0m\u001b[0;34m[\u001b[0m\u001b[0;34m'2018_TaxesEstimated'\u001b[0m\u001b[0;34m]\u001b[0m\u001b[0;34m,\u001b[0m \u001b[0mtest_size\u001b[0m\u001b[0;34m=\u001b[0m\u001b[0;36m0.2\u001b[0m\u001b[0;34m)\u001b[0m\u001b[0;34m\u001b[0m\u001b[0m\n\u001b[0m",
      "\u001b[0;32m/Users/anthonytownsend/anaconda2/lib/python2.7/site-packages/pandas/core/frame.pyc\u001b[0m in \u001b[0;36m__getitem__\u001b[0;34m(self, key)\u001b[0m\n\u001b[1;32m   2677\u001b[0m         \u001b[0;32mif\u001b[0m \u001b[0misinstance\u001b[0m\u001b[0;34m(\u001b[0m\u001b[0mkey\u001b[0m\u001b[0;34m,\u001b[0m \u001b[0;34m(\u001b[0m\u001b[0mSeries\u001b[0m\u001b[0;34m,\u001b[0m \u001b[0mnp\u001b[0m\u001b[0;34m.\u001b[0m\u001b[0mndarray\u001b[0m\u001b[0;34m,\u001b[0m \u001b[0mIndex\u001b[0m\u001b[0;34m,\u001b[0m \u001b[0mlist\u001b[0m\u001b[0;34m)\u001b[0m\u001b[0;34m)\u001b[0m\u001b[0;34m:\u001b[0m\u001b[0;34m\u001b[0m\u001b[0m\n\u001b[1;32m   2678\u001b[0m             \u001b[0;31m# either boolean or fancy integer index\u001b[0m\u001b[0;34m\u001b[0m\u001b[0;34m\u001b[0m\u001b[0m\n\u001b[0;32m-> 2679\u001b[0;31m             \u001b[0;32mreturn\u001b[0m \u001b[0mself\u001b[0m\u001b[0;34m.\u001b[0m\u001b[0m_getitem_array\u001b[0m\u001b[0;34m(\u001b[0m\u001b[0mkey\u001b[0m\u001b[0;34m)\u001b[0m\u001b[0;34m\u001b[0m\u001b[0m\n\u001b[0m\u001b[1;32m   2680\u001b[0m         \u001b[0;32melif\u001b[0m \u001b[0misinstance\u001b[0m\u001b[0;34m(\u001b[0m\u001b[0mkey\u001b[0m\u001b[0;34m,\u001b[0m \u001b[0mDataFrame\u001b[0m\u001b[0;34m)\u001b[0m\u001b[0;34m:\u001b[0m\u001b[0;34m\u001b[0m\u001b[0m\n\u001b[1;32m   2681\u001b[0m             \u001b[0;32mreturn\u001b[0m \u001b[0mself\u001b[0m\u001b[0;34m.\u001b[0m\u001b[0m_getitem_frame\u001b[0m\u001b[0;34m(\u001b[0m\u001b[0mkey\u001b[0m\u001b[0;34m)\u001b[0m\u001b[0;34m\u001b[0m\u001b[0m\n",
      "\u001b[0;32m/Users/anthonytownsend/anaconda2/lib/python2.7/site-packages/pandas/core/frame.pyc\u001b[0m in \u001b[0;36m_getitem_array\u001b[0;34m(self, key)\u001b[0m\n\u001b[1;32m   2721\u001b[0m             \u001b[0;32mreturn\u001b[0m \u001b[0mself\u001b[0m\u001b[0;34m.\u001b[0m\u001b[0m_take\u001b[0m\u001b[0;34m(\u001b[0m\u001b[0mindexer\u001b[0m\u001b[0;34m,\u001b[0m \u001b[0maxis\u001b[0m\u001b[0;34m=\u001b[0m\u001b[0;36m0\u001b[0m\u001b[0;34m)\u001b[0m\u001b[0;34m\u001b[0m\u001b[0m\n\u001b[1;32m   2722\u001b[0m         \u001b[0;32melse\u001b[0m\u001b[0;34m:\u001b[0m\u001b[0;34m\u001b[0m\u001b[0m\n\u001b[0;32m-> 2723\u001b[0;31m             \u001b[0mindexer\u001b[0m \u001b[0;34m=\u001b[0m \u001b[0mself\u001b[0m\u001b[0;34m.\u001b[0m\u001b[0mloc\u001b[0m\u001b[0;34m.\u001b[0m\u001b[0m_convert_to_indexer\u001b[0m\u001b[0;34m(\u001b[0m\u001b[0mkey\u001b[0m\u001b[0;34m,\u001b[0m \u001b[0maxis\u001b[0m\u001b[0;34m=\u001b[0m\u001b[0;36m1\u001b[0m\u001b[0;34m)\u001b[0m\u001b[0;34m\u001b[0m\u001b[0m\n\u001b[0m\u001b[1;32m   2724\u001b[0m             \u001b[0;32mreturn\u001b[0m \u001b[0mself\u001b[0m\u001b[0;34m.\u001b[0m\u001b[0m_take\u001b[0m\u001b[0;34m(\u001b[0m\u001b[0mindexer\u001b[0m\u001b[0;34m,\u001b[0m \u001b[0maxis\u001b[0m\u001b[0;34m=\u001b[0m\u001b[0;36m1\u001b[0m\u001b[0;34m)\u001b[0m\u001b[0;34m\u001b[0m\u001b[0m\n\u001b[1;32m   2725\u001b[0m \u001b[0;34m\u001b[0m\u001b[0m\n",
      "\u001b[0;32m/Users/anthonytownsend/anaconda2/lib/python2.7/site-packages/pandas/core/indexing.pyc\u001b[0m in \u001b[0;36m_convert_to_indexer\u001b[0;34m(self, obj, axis, is_setter)\u001b[0m\n\u001b[1;32m   1325\u001b[0m                 \u001b[0;32mif\u001b[0m \u001b[0mmask\u001b[0m\u001b[0;34m.\u001b[0m\u001b[0many\u001b[0m\u001b[0;34m(\u001b[0m\u001b[0;34m)\u001b[0m\u001b[0;34m:\u001b[0m\u001b[0;34m\u001b[0m\u001b[0m\n\u001b[1;32m   1326\u001b[0m                     raise KeyError('{mask} not in index'\n\u001b[0;32m-> 1327\u001b[0;31m                                    .format(mask=objarr[mask]))\n\u001b[0m\u001b[1;32m   1328\u001b[0m \u001b[0;34m\u001b[0m\u001b[0m\n\u001b[1;32m   1329\u001b[0m                 \u001b[0;32mreturn\u001b[0m \u001b[0mcom\u001b[0m\u001b[0;34m.\u001b[0m\u001b[0m_values_from_object\u001b[0m\u001b[0;34m(\u001b[0m\u001b[0mindexer\u001b[0m\u001b[0;34m)\u001b[0m\u001b[0;34m\u001b[0m\u001b[0m\n",
      "\u001b[0;31mKeyError\u001b[0m: \"['BlockNo' 'SalePrice' '2017_AssmtTaxable' '2017_AssmtTotal'\\n '2017_TaxesTotal' 'YearBuilt' 'SquareFootage'] not in index\""
     ]
    }
   ],
   "source": [
    "from sklearn.model_selection import train_test_split\n",
    "\n",
    "# X_train, X_test, y_train, y_test = train_test_split(df[iris.feature_names], iris.target, test_size=0.5, stratify=iris.target, random_state=123456)\n",
    "X_train, X_test, y_train, y_test = train_test_split(df[idx],df['2018_TaxesEstimated'], test_size=0.2)"
   ]
  },
  {
   "cell_type": "code",
   "execution_count": 15,
   "metadata": {},
   "outputs": [
    {
     "data": {
      "text/plain": [
       "(array([], dtype=int64), array([], dtype=int64))"
      ]
     },
     "execution_count": 15,
     "metadata": {},
     "output_type": "execute_result"
    }
   ],
   "source": [
    "# check for NaN's\n",
    "# https://datascience.stackexchange.com/questions/11928/valueerror-input-contains-nan-infinity-or-a-value-too-large-for-dtypefloat32\n",
    "\n",
    "np.where(np.isnan(X_train))\n"
   ]
  },
  {
   "cell_type": "code",
   "execution_count": null,
   "metadata": {},
   "outputs": [],
   "source": [
    "#R rf = randomForest(X2018.Taxes.Estimated ~ ., data=df)\n",
    "rf = RandomForestRegressor(n_estimators=5, random_state=2)\n",
    "rf.fit(X_train, y_train)\n",
    "\n",
    "rf.score(X_train,y_train)\n"
   ]
  },
  {
   "cell_type": "code",
   "execution_count": null,
   "metadata": {},
   "outputs": [],
   "source": [
    "#R diff = predict(rf, df) - df$X2018.Taxes.Estimated\n",
    "#R x = seq(0,5,0.1)\n",
    "#R plot(seq(0,5,0.1), sapply(x, function(w) dim(df[abs(diff)>w*sd(diff),])[1]))"
   ]
  }
 ],
 "metadata": {
  "kernelspec": {
   "display_name": "Python [conda env:anaconda2]",
   "language": "python",
   "name": "conda-env-anaconda2-py"
  },
  "language_info": {
   "codemirror_mode": {
    "name": "ipython",
    "version": 2
   },
   "file_extension": ".py",
   "mimetype": "text/x-python",
   "name": "python",
   "nbconvert_exporter": "python",
   "pygments_lexer": "ipython2",
   "version": "2.7.15"
  }
 },
 "nbformat": 4,
 "nbformat_minor": 2
}
